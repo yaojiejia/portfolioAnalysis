{
 "cells": [
  {
   "cell_type": "code",
   "execution_count": 3,
   "metadata": {},
   "outputs": [],
   "source": [
    "import yfinance as yf\n",
    "import pandas as pd\n",
    "import numpy as np\n",
    "import matplotlib.pyplot as plt\n",
    "import seaborn as sns"
   ]
  },
  {
   "cell_type": "code",
   "execution_count": 4,
   "metadata": {},
   "outputs": [],
   "source": [
    "def get_stock_data(ticker, start_date, end_date):\n",
    "    data = yf.download(ticker, start=start_date, end=end_date)\n",
    "    return data\n",
    "\n",
    "def calculate_beta(ticker, start_date, end_date):\n",
    "    tickers = [ticker, \"SPY\"]\n",
    "    covariance = calculate_covariance(tickers, start_date, end_date)\n",
    "    variance = calculate_variance(\"SPY\", start_date, end_date)\n",
    "    beta = covariance / variance\n",
    "    return beta\n",
    "\n",
    "#CAPM model\n",
    "def calculate_return(ticker, start_date, end_date):\n",
    "    risk_free_rate = 4.58   #source: https://www.cnbc.com/quotes/US10Y\n",
    "    beta = calculate_beta(ticker, start_date, end_date)\n",
    "    beta = beta[ticker][\"SPY\"]\n",
    "    expected_market_return = 8 #source: https://www.cnbc.com/quotes/US10Y\n",
    "    return risk_free_rate + beta * (expected_market_return - risk_free_rate)\n",
    "\n",
    "def calculate_variance(ticker, start_date, end_date):\n",
    "    stock_data = get_stock_data(ticker, start_date, end_date)\n",
    "    stock_data = stock_data['Close'][ticker].pct_change().dropna()\n",
    "    return stock_data.var() \n",
    "\n",
    "\n",
    "def calculate_covariance(tickers, start_date, end_date):\n",
    "    data = {}  \n",
    "\n",
    "    for ticker in tickers:\n",
    "        \n",
    "        stock_data = get_stock_data(ticker, start_date, end_date)['Close'][ticker].pct_change().dropna()\n",
    "        \n",
    "        if ticker not in data:\n",
    "            data[ticker] = []\n",
    "        \n",
    "        \n",
    "        for ret in stock_data:\n",
    "            data[ticker].append(ret)\n",
    "            \n",
    "        \n",
    "    df = pd.DataFrame(data)\n",
    "\n",
    "    return df.cov()"
   ]
  },
  {
   "cell_type": "code",
   "execution_count": 11,
   "metadata": {},
   "outputs": [],
   "source": [
    "import cvxpy as cp\n",
    "\n",
    "\n",
    "def optimize_portfolio(tickers, start_date, end_date):\n",
    "    expected_returns_dict = {}\n",
    "    expected_returns = []\n",
    "\n",
    "    for ticker in tickers:\n",
    "        expected_returns_dict[calculate_return(ticker, start_date, end_date)] = ticker\n",
    "        expected_returns.append(calculate_return(ticker, start_date, end_date))\n",
    "\n",
    "    cov_matrix = calculate_covariance(tickers, start_date, end_date)\n",
    "    n = 10\n",
    "    w = cp.Variable(n)\n",
    "    portfolio_variance = cp.quad_form(w, cov_matrix)\n",
    "    objective = cp.Minimize(portfolio_variance)\n",
    "\n",
    "\n",
    "    \n",
    "\n"
   ]
  },
  {
   "cell_type": "code",
   "execution_count": null,
   "metadata": {},
   "outputs": [],
   "source": [
    "nasdaq =[\"AAPL\", \"ABNB\", \"ADBE\", \"ADI\", \"ADP\", \"ADSK\", \"AEP\", \"AMAT\", \"AMD\", \"AMGN\", \n",
    "\"AMZN\", \"ANSS\", \"APP\", \"ASML\", \"AVGO\", \"AXON\", \"AZN\", \"BKR\", \"CDNS\", \n",
    "\"CEG\", \"CHTR\", \"CMCSA\", \"CSGP\", \"CSX\", \"CTAS\", \"CTSH\", \"DDOG\", \"DLTR\", \"DXCM\", \n",
    "\"EA\", \"EBAY\", \"EXC\", \"FAST\", \"FANG\", \"FTNT\", \"GFS\", \"GILD\", \"HON\", \"IDXX\", \n",
    "\"ILMN\", \"INTC\", \"INTU\", \"ISRG\", \"JD\", \"KDP\", \"KLAC\", \"LCID\", \"LRCX\", \"MAR\", \n",
    "\"MCHP\", \"MDLZ\", \"MELI\", \"META\", \"MNST\", \"MRVL\", \"MSFT\", \"MU\", \"NFLX\", \"NTES\", \n",
    "\"NVDA\", \"NXPI\", \"ORLY\", \"PANW\", \"PCAR\", \"PDD\", \"PEP\", \"PYPL\", \"QCOM\", \"REGN\", \n",
    "\"ROST\", \"SBUX\", \"SNPS\", \"SWKS\", \"TEAM\", \"TMUS\", \"TSLA\", \"TTD\", \"TTWO\", \n",
    "\"TXN\", \"VRSK\", \"VRTX\", \"WBD\", \"WDAY\", \"XEL\", \"ZS\"]\n",
    "\n",
    "optimize_portfolio(nasdaq[:10], \"2024-01-01\", \"2024-12-01\")"
   ]
  }
 ],
 "metadata": {
  "kernelspec": {
   "display_name": "myenv",
   "language": "python",
   "name": "python3"
  },
  "language_info": {
   "codemirror_mode": {
    "name": "ipython",
    "version": 3
   },
   "file_extension": ".py",
   "mimetype": "text/x-python",
   "name": "python",
   "nbconvert_exporter": "python",
   "pygments_lexer": "ipython3",
   "version": "3.11.0rc1"
  }
 },
 "nbformat": 4,
 "nbformat_minor": 2
}

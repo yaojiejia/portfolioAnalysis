{
 "cells": [
  {
   "cell_type": "code",
   "execution_count": 11,
   "metadata": {},
   "outputs": [
    {
     "name": "stderr",
     "output_type": "stream",
     "text": [
      "25/01/09 12:48:24 WARN SparkSession: Using an existing Spark session; only runtime SQL configurations will take effect.\n"
     ]
    }
   ],
   "source": [
    "from pyspark.sql import SparkSession\n",
    "\n",
    "spark = SparkSession.builder.appName(\"test\").getOrCreate()"
   ]
  },
  {
   "cell_type": "code",
   "execution_count": 14,
   "metadata": {},
   "outputs": [
    {
     "name": "stderr",
     "output_type": "stream",
     "text": [
      "[*********************100%***********************]  3 of 3 completed\n"
     ]
    },
    {
     "data": {
      "text/html": [
       "<div>\n",
       "<style scoped>\n",
       "    .dataframe tbody tr th:only-of-type {\n",
       "        vertical-align: middle;\n",
       "    }\n",
       "\n",
       "    .dataframe tbody tr th {\n",
       "        vertical-align: top;\n",
       "    }\n",
       "\n",
       "    .dataframe thead th {\n",
       "        text-align: right;\n",
       "    }\n",
       "</style>\n",
       "<table border=\"1\" class=\"dataframe\">\n",
       "  <thead>\n",
       "    <tr style=\"text-align: right;\">\n",
       "      <th>Ticker</th>\n",
       "      <th>Date</th>\n",
       "      <th>AAPL</th>\n",
       "      <th>CRM</th>\n",
       "      <th>MSFT</th>\n",
       "    </tr>\n",
       "  </thead>\n",
       "  <tbody>\n",
       "    <tr>\n",
       "      <th>247</th>\n",
       "      <td>2025-01-02</td>\n",
       "      <td>243.850006</td>\n",
       "      <td>330.660004</td>\n",
       "      <td>418.579987</td>\n",
       "    </tr>\n",
       "    <tr>\n",
       "      <th>248</th>\n",
       "      <td>2025-01-03</td>\n",
       "      <td>243.360001</td>\n",
       "      <td>332.899994</td>\n",
       "      <td>423.350006</td>\n",
       "    </tr>\n",
       "    <tr>\n",
       "      <th>249</th>\n",
       "      <td>2025-01-06</td>\n",
       "      <td>245.000000</td>\n",
       "      <td>330.529999</td>\n",
       "      <td>427.850006</td>\n",
       "    </tr>\n",
       "    <tr>\n",
       "      <th>250</th>\n",
       "      <td>2025-01-07</td>\n",
       "      <td>242.210007</td>\n",
       "      <td>324.929993</td>\n",
       "      <td>422.369995</td>\n",
       "    </tr>\n",
       "    <tr>\n",
       "      <th>251</th>\n",
       "      <td>2025-01-08</td>\n",
       "      <td>242.699997</td>\n",
       "      <td>326.899994</td>\n",
       "      <td>424.559998</td>\n",
       "    </tr>\n",
       "  </tbody>\n",
       "</table>\n",
       "</div>"
      ],
      "text/plain": [
       "Ticker       Date        AAPL         CRM        MSFT\n",
       "247    2025-01-02  243.850006  330.660004  418.579987\n",
       "248    2025-01-03  243.360001  332.899994  423.350006\n",
       "249    2025-01-06  245.000000  330.529999  427.850006\n",
       "250    2025-01-07  242.210007  324.929993  422.369995\n",
       "251    2025-01-08  242.699997  326.899994  424.559998"
      ]
     },
     "execution_count": 14,
     "metadata": {},
     "output_type": "execute_result"
    }
   ],
   "source": [
    "import yfinance as yf\n",
    "\n",
    "tickers = [\"AAPL\", \"MSFT\", \"CRM\"]\n",
    "\n",
    "stock = yf.download(tickers, period=\"1y\", interval=\"1d\")['Close']\n",
    "\n",
    "stock.reset_index(inplace=True)\n",
    "\n",
    "stock.tail()"
   ]
  },
  {
   "cell_type": "code",
   "execution_count": 17,
   "metadata": {},
   "outputs": [
    {
     "name": "stdout",
     "output_type": "stream",
     "text": [
      "+----------+------------------+------------------+------------------+\n",
      "|      Date|              AAPL|               CRM|              MSFT|\n",
      "+----------+------------------+------------------+------------------+\n",
      "|2024-01-09|184.23741149902344|  259.888427734375| 373.0007629394531|\n",
      "|2024-01-10|185.28228759765625|262.66290283203125|379.92889404296875|\n",
      "|2024-01-11|184.68521118164062| 269.8726501464844| 381.7751159667969|\n",
      "|2024-01-12| 185.0135955810547|270.41961669921875|385.58660888671875|\n",
      "|2024-01-16|182.73477172851562| 267.6948547363281| 387.3732604980469|\n",
      "|2024-01-17|181.78941345214844| 269.9323425292969| 386.5791931152344|\n",
      "|2024-01-18| 187.7104034423828|     272.935546875|  390.946533203125|\n",
      "|2024-01-19|190.62611389160156|279.31988525390625|       395.7109375|\n",
      "|2024-01-22| 192.9447479248047|278.74310302734375|393.56695556640625|\n",
      "|2024-01-23|194.22845458984375|  275.232666015625| 395.9391784667969|\n",
      "|2024-01-24|193.55177307128906|275.34210205078125|  399.572021484375|\n",
      "|2024-01-25|  193.223388671875|277.48016357421875| 401.8648986816406|\n",
      "|2024-01-26|191.48191833496094|278.38507080078125|  400.931884765625|\n",
      "|2024-01-29| 190.7952880859375| 286.2611389160156|406.67889404296875|\n",
      "|2024-01-30|187.12327575683594| 286.1318054199219| 405.5572814941406|\n",
      "|2024-01-31| 183.5010223388672| 279.5287170410156| 394.6289978027344|\n",
      "|2024-02-01|185.94903564453125| 282.2236633300781|400.78302001953125|\n",
      "|2024-02-02| 184.9439697265625| 284.0733337402344| 408.1677551269531|\n",
      "|2024-02-05| 186.7650146484375|286.50970458984375| 402.6391296386719|\n",
      "|2024-02-06|188.37713623046875|284.24237060546875| 402.4802551269531|\n",
      "+----------+------------------+------------------+------------------+\n",
      "only showing top 20 rows\n",
      "\n"
     ]
    }
   ],
   "source": [
    "from pyspark.sql.functions import to_date\n",
    "\n",
    "\n",
    "spark_df = spark.createDataFrame(stock)\n",
    "spark_df = spark_df.withColumn(\"Date\", to_date(\"Date\", \"yyyy-MM-dd\"))\n",
    "\n",
    "spark_df.show()\n"
   ]
  },
  {
   "cell_type": "code",
   "execution_count": null,
   "metadata": {},
   "outputs": [],
   "source": []
  }
 ],
 "metadata": {
  "kernelspec": {
   "display_name": "myenv",
   "language": "python",
   "name": "python3"
  },
  "language_info": {
   "codemirror_mode": {
    "name": "ipython",
    "version": 3
   },
   "file_extension": ".py",
   "mimetype": "text/x-python",
   "name": "python",
   "nbconvert_exporter": "python",
   "pygments_lexer": "ipython3",
   "version": "3.11.0"
  }
 },
 "nbformat": 4,
 "nbformat_minor": 2
}
